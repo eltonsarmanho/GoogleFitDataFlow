{
 "cells": [
  {
   "cell_type": "code",
   "execution_count": 37,
   "id": "8246a982",
   "metadata": {},
   "outputs": [],
   "source": [
    "import json\n",
    "import pprint\n",
    "import subprocess\n",
    "import datetime\n",
    "import time\n",
    "import calendar"
   ]
  },
  {
   "cell_type": "code",
   "execution_count": 42,
   "id": "342cebc1",
   "metadata": {},
   "outputs": [],
   "source": [
    "def getUserCode(clientId, scope):\n",
    "    step1CodeTemplate= 'curl -d \"client_id=<clientId>' +\\\n",
    "    '&scope=<scope>\" https://accounts.google.com/o/oauth2/device/code'\n",
    "    step1= step1CodeTemplate.replace('<clientId>',clientId).replace('<scope>',scope)\n",
    "    allSources = getAllJSON(step1)\n",
    "    pprint.pprint(allSources)\n",
    "    return allSources['device_code'], allSources['user_code'], allSources['verification_url']\n",
    "\n",
    "def getRefreshToken(clientId, clientSecret, deviceCode):\n",
    "    step2CodeTemplate = 'curl -d \"client_id=<clientId>&client_secret=<clientSecret>' + \\\n",
    "    '&code=<deviceCode>&grant_type=http://oauth.net/grant_type/device/1.0\" ' + \\\n",
    "    'https://accounts.google.com/o/oauth2/token'\n",
    "    step2= step2CodeTemplate.replace('<clientId>',clientId) \\\n",
    "    .replace('<clientSecret>',clientSecret) \\\n",
    "    .replace('<deviceCode>',deviceCode)\n",
    "    pprint.pprint(step2)\n",
    "    allSources = getAllJSON(step2)\n",
    "    pprint.pprint(allSources)\n",
    "    return allSources['access_token'], allSources['refresh_token']\n",
    "\n",
    "def getRefreshedAccessCode(clientId, clientSecret, refreshToken):\n",
    "    step3CodeTemplate = 'curl -d \"client_id=<clientId>&client_secret=<clientSecret>' + \\\n",
    "    '&refresh_token=<refreshToken>' + \\\n",
    "    '&grant_type=refresh_token\" https://accounts.google.com/o/oauth2/token'\n",
    "    step3 = step3CodeTemplate.replace('<clientId>',clientId) \\\n",
    "    .replace('<clientSecret>',clientSecret) \\\n",
    "    .replace('<refreshToken>',refreshToken)\n",
    "    return getTagValue(step3, 'access_token')"
   ]
  },
  {
   "cell_type": "code",
   "execution_count": 39,
   "id": "10df266d",
   "metadata": {},
   "outputs": [],
   "source": [
    "def getTagValue(stepCode, tagName):\n",
    "    obj = getAllJSON(stepCode)\n",
    "    tagValue = obj[tagName]\n",
    "    print(tagValue)\n",
    "    return tagValue\n",
    "\n",
    "def getAllJSON(stepCode):\n",
    "    fout = subprocess.Popen(stepCode,stdout=subprocess.PIPE)\n",
    "    inFile = fout.communicate()[0]\n",
    "    return json.loads(inFile)\n",
    "\n",
    "def msToTime(ms):\n",
    "    s = float(ms) / 1000000000.0\n",
    "    return datetime.datetime.fromtimestamp(s).strftime('%Y-%m-%d %H:%M:%S.%f')\n",
    "\n",
    "def timeToMs(yyyy, mm, dd, hour, min, sec, dec):\n",
    "#    now = datetime.datetime(2015,03,10,13,0, 9, 12345)    \n",
    "    now = datetime.datetime(yyyy, mm, dd, hour, min, sec, dec)\n",
    "    tt = datetime.datetime.timetuple(now)\n",
    "    return time.mktime(tt) * 1000000000.0\n",
    "\n",
    "def getDataTimes(dataInput):\n",
    "    points = dataInput['point']\n",
    "        \n",
    "    startMilliseconds = 0\n",
    "    endMilliseconds = 0\n",
    "    for point in points:\n",
    "        if startMilliseconds < point['startTimeNanos']: \n",
    "            startMilliseconds = point['startTimeNanos']\n",
    "        if endMilliseconds < point['endTimeNanos']: \n",
    "            endMilliseconds = point['endTimeNanos']\n",
    "    return     (len(points), msToTime(startMilliseconds), msToTime(endMilliseconds))\n",
    "\n",
    "def getInformationSourceList(accessToken):\n",
    "    step4CodeTemplate = 'curl -d https://www.googleapis.com/fitness/v1/users/me/dataSources' + \\\n",
    "    '?access_token=<accessToken>'\n",
    "    step4 = step4CodeTemplate.replace('<accessToken>',accessToken)\n",
    "    allSources = getAllJSON(step4)\n",
    "    dataSources = []\n",
    "    for sourceList in allSources['dataSource']:\n",
    "        dataSources.append(sourceList['dataStreamId'])\n",
    "    return dataSources"
   ]
  },
  {
   "cell_type": "code",
   "execution_count": 40,
   "id": "34a7d27f",
   "metadata": {},
   "outputs": [],
   "source": [
    "clientId = '1060843709711-k6rpevmtkfvnhkfja35te3fg16jhb08n.apps.googleusercontent.comm'\n",
    "clientSecret = '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'\n",
    "\n",
    "scope = 'email profile+ \\\n",
    "https://www.googleapis.com/auth/fitness.activity.read+ \\\n",
    "https://www.googleapis.com/auth/fitness.activity.write+ \\\n",
    "https://www.googleapis.com/auth/fitness.body.read+ \\\n",
    "https://www.googleapis.com/auth/fitness.body.write+ \\\n",
    "https://www.googleapis.com/auth/fitness.location.read+ \\\n",
    "https://www.googleapis.com/auth/fitness.location.write'"
   ]
  },
  {
   "cell_type": "code",
   "execution_count": 41,
   "id": "b7007fe4",
   "metadata": {},
   "outputs": [
    {
     "ename": "FileNotFoundError",
     "evalue": "[Errno 2] No such file or directory: 'curl -d \"client_id=1060843709711-k6rpevmtkfvnhkfja35te3fg16jhb08n.apps.googleusercontent.comm&scope=email profile+ https://www.googleapis.com/auth/fitness.activity.read+ https://www.googleapis.com/auth/fitness.activity.write+ https://www.googleapis.com/auth/fitness.body.read+ https://www.googleapis.com/auth/fitness.body.write+ https://www.googleapis.com/auth/fitness.location.read+ https://www.googleapis.com/auth/fitness.location.write\" https://accounts.google.com/o/oauth2/device/code'",
     "output_type": "error",
     "traceback": [
      "\u001b[0;31m---------------------------------------------------------------------------\u001b[0m",
      "\u001b[0;31mFileNotFoundError\u001b[0m                         Traceback (most recent call last)",
      "\u001b[0;32m/tmp/ipykernel_11907/411804991.py\u001b[0m in \u001b[0;36m<cell line: 1>\u001b[0;34m()\u001b[0m\n\u001b[0;32m----> 1\u001b[0;31m \u001b[0mdeviceCode\u001b[0m\u001b[0;34m,\u001b[0m \u001b[0muserCode\u001b[0m\u001b[0;34m,\u001b[0m \u001b[0mverificationUrl\u001b[0m \u001b[0;34m=\u001b[0m \u001b[0mgetUserCode\u001b[0m\u001b[0;34m(\u001b[0m\u001b[0mclientId\u001b[0m\u001b[0;34m,\u001b[0m \u001b[0mscope\u001b[0m\u001b[0;34m)\u001b[0m\u001b[0;34m\u001b[0m\u001b[0;34m\u001b[0m\u001b[0m\n\u001b[0m\u001b[1;32m      2\u001b[0m \u001b[0mprint\u001b[0m\u001b[0;34m(\u001b[0m\u001b[0;34m'\\n******  go  to page '\u001b[0m \u001b[0;34m+\u001b[0m \u001b[0mverificationUrl\u001b[0m \u001b[0;34m+\u001b[0m \u001b[0;34m' and enter '\u001b[0m \u001b[0;34m+\u001b[0m \u001b[0muserCode\u001b[0m \u001b[0;34m+\u001b[0m \u001b[0;34m\" *****\\n\"\u001b[0m\u001b[0;34m)\u001b[0m\u001b[0;34m\u001b[0m\u001b[0;34m\u001b[0m\u001b[0m\n",
      "\u001b[0;32m/tmp/ipykernel_11907/3225095528.py\u001b[0m in \u001b[0;36mgetUserCode\u001b[0;34m(clientId, scope)\u001b[0m\n\u001b[1;32m      3\u001b[0m     \u001b[0;34m'&scope=<scope>\" https://accounts.google.com/o/oauth2/device/code'\u001b[0m\u001b[0;34m\u001b[0m\u001b[0;34m\u001b[0m\u001b[0m\n\u001b[1;32m      4\u001b[0m     \u001b[0mstep1\u001b[0m\u001b[0;34m=\u001b[0m \u001b[0mstep1CodeTemplate\u001b[0m\u001b[0;34m.\u001b[0m\u001b[0mreplace\u001b[0m\u001b[0;34m(\u001b[0m\u001b[0;34m'<clientId>'\u001b[0m\u001b[0;34m,\u001b[0m\u001b[0mclientId\u001b[0m\u001b[0;34m)\u001b[0m\u001b[0;34m.\u001b[0m\u001b[0mreplace\u001b[0m\u001b[0;34m(\u001b[0m\u001b[0;34m'<scope>'\u001b[0m\u001b[0;34m,\u001b[0m\u001b[0mscope\u001b[0m\u001b[0;34m)\u001b[0m\u001b[0;34m\u001b[0m\u001b[0;34m\u001b[0m\u001b[0m\n\u001b[0;32m----> 5\u001b[0;31m     \u001b[0mallSources\u001b[0m \u001b[0;34m=\u001b[0m \u001b[0mgetAllJSON\u001b[0m\u001b[0;34m(\u001b[0m\u001b[0mstep1\u001b[0m\u001b[0;34m)\u001b[0m\u001b[0;34m\u001b[0m\u001b[0;34m\u001b[0m\u001b[0m\n\u001b[0m\u001b[1;32m      6\u001b[0m     \u001b[0mpprint\u001b[0m\u001b[0;34m.\u001b[0m\u001b[0mpprint\u001b[0m\u001b[0;34m(\u001b[0m\u001b[0mallSources\u001b[0m\u001b[0;34m)\u001b[0m\u001b[0;34m\u001b[0m\u001b[0;34m\u001b[0m\u001b[0m\n\u001b[1;32m      7\u001b[0m     \u001b[0;32mreturn\u001b[0m \u001b[0mallSources\u001b[0m\u001b[0;34m[\u001b[0m\u001b[0;34m'device_code'\u001b[0m\u001b[0;34m]\u001b[0m\u001b[0;34m,\u001b[0m \u001b[0mallSources\u001b[0m\u001b[0;34m[\u001b[0m\u001b[0;34m'user_code'\u001b[0m\u001b[0;34m]\u001b[0m\u001b[0;34m,\u001b[0m \u001b[0mallSources\u001b[0m\u001b[0;34m[\u001b[0m\u001b[0;34m'verification_url'\u001b[0m\u001b[0;34m]\u001b[0m\u001b[0;34m\u001b[0m\u001b[0;34m\u001b[0m\u001b[0m\n",
      "\u001b[0;32m/tmp/ipykernel_11907/1753864803.py\u001b[0m in \u001b[0;36mgetAllJSON\u001b[0;34m(stepCode)\u001b[0m\n\u001b[1;32m      6\u001b[0m \u001b[0;34m\u001b[0m\u001b[0m\n\u001b[1;32m      7\u001b[0m \u001b[0;32mdef\u001b[0m \u001b[0mgetAllJSON\u001b[0m\u001b[0;34m(\u001b[0m\u001b[0mstepCode\u001b[0m\u001b[0;34m)\u001b[0m\u001b[0;34m:\u001b[0m\u001b[0;34m\u001b[0m\u001b[0;34m\u001b[0m\u001b[0m\n\u001b[0;32m----> 8\u001b[0;31m     \u001b[0mfout\u001b[0m \u001b[0;34m=\u001b[0m \u001b[0msubprocess\u001b[0m\u001b[0;34m.\u001b[0m\u001b[0mPopen\u001b[0m\u001b[0;34m(\u001b[0m\u001b[0mstepCode\u001b[0m\u001b[0;34m,\u001b[0m\u001b[0mstdout\u001b[0m\u001b[0;34m=\u001b[0m\u001b[0msubprocess\u001b[0m\u001b[0;34m.\u001b[0m\u001b[0mPIPE\u001b[0m\u001b[0;34m)\u001b[0m\u001b[0;34m\u001b[0m\u001b[0;34m\u001b[0m\u001b[0m\n\u001b[0m\u001b[1;32m      9\u001b[0m     \u001b[0minFile\u001b[0m \u001b[0;34m=\u001b[0m \u001b[0mfout\u001b[0m\u001b[0;34m.\u001b[0m\u001b[0mcommunicate\u001b[0m\u001b[0;34m(\u001b[0m\u001b[0;34m)\u001b[0m\u001b[0;34m[\u001b[0m\u001b[0;36m0\u001b[0m\u001b[0;34m]\u001b[0m\u001b[0;34m\u001b[0m\u001b[0;34m\u001b[0m\u001b[0m\n\u001b[1;32m     10\u001b[0m     \u001b[0;32mreturn\u001b[0m \u001b[0mjson\u001b[0m\u001b[0;34m.\u001b[0m\u001b[0mloads\u001b[0m\u001b[0;34m(\u001b[0m\u001b[0minFile\u001b[0m\u001b[0;34m)\u001b[0m\u001b[0;34m\u001b[0m\u001b[0;34m\u001b[0m\u001b[0m\n",
      "\u001b[0;32m~/anaconda3/lib/python3.9/subprocess.py\u001b[0m in \u001b[0;36m__init__\u001b[0;34m(self, args, bufsize, executable, stdin, stdout, stderr, preexec_fn, close_fds, shell, cwd, env, universal_newlines, startupinfo, creationflags, restore_signals, start_new_session, pass_fds, user, group, extra_groups, encoding, errors, text, umask)\u001b[0m\n\u001b[1;32m    949\u001b[0m                             encoding=encoding, errors=errors)\n\u001b[1;32m    950\u001b[0m \u001b[0;34m\u001b[0m\u001b[0m\n\u001b[0;32m--> 951\u001b[0;31m             self._execute_child(args, executable, preexec_fn, close_fds,\n\u001b[0m\u001b[1;32m    952\u001b[0m                                 \u001b[0mpass_fds\u001b[0m\u001b[0;34m,\u001b[0m \u001b[0mcwd\u001b[0m\u001b[0;34m,\u001b[0m \u001b[0menv\u001b[0m\u001b[0;34m,\u001b[0m\u001b[0;34m\u001b[0m\u001b[0;34m\u001b[0m\u001b[0m\n\u001b[1;32m    953\u001b[0m                                 \u001b[0mstartupinfo\u001b[0m\u001b[0;34m,\u001b[0m \u001b[0mcreationflags\u001b[0m\u001b[0;34m,\u001b[0m \u001b[0mshell\u001b[0m\u001b[0;34m,\u001b[0m\u001b[0;34m\u001b[0m\u001b[0;34m\u001b[0m\u001b[0m\n",
      "\u001b[0;32m~/anaconda3/lib/python3.9/subprocess.py\u001b[0m in \u001b[0;36m_execute_child\u001b[0;34m(self, args, executable, preexec_fn, close_fds, pass_fds, cwd, env, startupinfo, creationflags, shell, p2cread, p2cwrite, c2pread, c2pwrite, errread, errwrite, restore_signals, gid, gids, uid, umask, start_new_session)\u001b[0m\n\u001b[1;32m   1819\u001b[0m                     \u001b[0;32mif\u001b[0m \u001b[0merrno_num\u001b[0m \u001b[0;34m!=\u001b[0m \u001b[0;36m0\u001b[0m\u001b[0;34m:\u001b[0m\u001b[0;34m\u001b[0m\u001b[0;34m\u001b[0m\u001b[0m\n\u001b[1;32m   1820\u001b[0m                         \u001b[0merr_msg\u001b[0m \u001b[0;34m=\u001b[0m \u001b[0mos\u001b[0m\u001b[0;34m.\u001b[0m\u001b[0mstrerror\u001b[0m\u001b[0;34m(\u001b[0m\u001b[0merrno_num\u001b[0m\u001b[0;34m)\u001b[0m\u001b[0;34m\u001b[0m\u001b[0;34m\u001b[0m\u001b[0m\n\u001b[0;32m-> 1821\u001b[0;31m                     \u001b[0;32mraise\u001b[0m \u001b[0mchild_exception_type\u001b[0m\u001b[0;34m(\u001b[0m\u001b[0merrno_num\u001b[0m\u001b[0;34m,\u001b[0m \u001b[0merr_msg\u001b[0m\u001b[0;34m,\u001b[0m \u001b[0merr_filename\u001b[0m\u001b[0;34m)\u001b[0m\u001b[0;34m\u001b[0m\u001b[0;34m\u001b[0m\u001b[0m\n\u001b[0m\u001b[1;32m   1822\u001b[0m                 \u001b[0;32mraise\u001b[0m \u001b[0mchild_exception_type\u001b[0m\u001b[0;34m(\u001b[0m\u001b[0merr_msg\u001b[0m\u001b[0;34m)\u001b[0m\u001b[0;34m\u001b[0m\u001b[0;34m\u001b[0m\u001b[0m\n\u001b[1;32m   1823\u001b[0m \u001b[0;34m\u001b[0m\u001b[0m\n",
      "\u001b[0;31mFileNotFoundError\u001b[0m: [Errno 2] No such file or directory: 'curl -d \"client_id=1060843709711-k6rpevmtkfvnhkfja35te3fg16jhb08n.apps.googleusercontent.comm&scope=email profile+ https://www.googleapis.com/auth/fitness.activity.read+ https://www.googleapis.com/auth/fitness.activity.write+ https://www.googleapis.com/auth/fitness.body.read+ https://www.googleapis.com/auth/fitness.body.write+ https://www.googleapis.com/auth/fitness.location.read+ https://www.googleapis.com/auth/fitness.location.write\" https://accounts.google.com/o/oauth2/device/code'"
     ]
    }
   ],
   "source": [
    "deviceCode, userCode, verificationUrl = getUserCode(clientId, scope)\n",
    "print('\\n******  go  to page ' + verificationUrl + ' and enter ' + userCode + \" *****\\n\")"
   ]
  },
  {
   "cell_type": "code",
   "execution_count": null,
   "id": "48d2abda",
   "metadata": {},
   "outputs": [],
   "source": []
  }
 ],
 "metadata": {
  "kernelspec": {
   "display_name": "Python 3 (ipykernel)",
   "language": "python",
   "name": "python3"
  },
  "language_info": {
   "codemirror_mode": {
    "name": "ipython",
    "version": 3
   },
   "file_extension": ".py",
   "mimetype": "text/x-python",
   "name": "python",
   "nbconvert_exporter": "python",
   "pygments_lexer": "ipython3",
   "version": "3.9.13"
  }
 },
 "nbformat": 4,
 "nbformat_minor": 5
}
